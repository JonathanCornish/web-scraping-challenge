{
 "cells": [
  {
   "cell_type": "code",
   "execution_count": 24,
   "metadata": {},
   "outputs": [],
   "source": [
    "from splinter import Browser\n",
    "from splinter.exceptions import ElementDoesNotExist\n",
    "from bs4 import BeautifulSoup as bs\n",
    "import time"
   ]
  },
  {
   "cell_type": "code",
   "execution_count": 25,
   "metadata": {},
   "outputs": [],
   "source": [
    "def init_browser():\n",
    "    # @NOTE: Replace the path with your actual path to the chromedriver\n",
    "    executable_path = {\"executable_path\": \"chromedriver\"}\n",
    "    return Browser(\"chrome\", **executable_path, headless=False)"
   ]
  },
  {
   "cell_type": "code",
   "execution_count": 21,
   "metadata": {},
   "outputs": [],
   "source": [
    "def scrape_info():\n",
    "    browser = init_browser()\n",
    "\n",
    "#     URL for the newspage of NASA's Mars Exploration Project\n",
    "    url = \"https://mars.nasa.gov/news/?page=0&per_page=40&order=publish_date+desc%2Ccreated_at+desc&search=&category=19%2C165%2C184%2C204&blank_scope=Latest\"\n",
    "    browser.visit(url)\n",
    "\n",
    "#     time.sleep(1)\n",
    "\n",
    "    # Scrape page into Soup\n",
    "    html = browser.html\n",
    "    soup = bs(html, \"html.parser\")\n",
    "\n",
    "    # Get the latest news title\n",
    "    news_title = soup.find_all('div', {\"class\": \"content_title\"})\n",
    "    news_title[0].text\n",
    "\n",
    "    # Get the latest paragraph text\n",
    "    news_para = soup.find_all('div', {\"class\": \"article_teaser_body\"})\n",
    "    news_para[0].text\n",
    "\n",
    "    # Find the src for the JPL featured space image\n",
    "#     relative_image_path = soup.find_all('img')[2][\"src\"]\n",
    "#     sloth_img = url + relative_image_path\n",
    "#     browser.quit()\n",
    "    # Store data in a dictionary\n",
    "    mars_data = {\n",
    "        \"news_title\": news_title[0],\n",
    "        \"news_para\": news_para[0]\n",
    "    }\n",
    "\n",
    "    # Close the browser after scraping\n",
    "#     browser.quit()\n",
    "\n",
    "    # Return results\n",
    "    return mars_data\n",
    "    print(mars_data)\n",
    "#     return news_title"
   ]
  },
  {
   "cell_type": "code",
   "execution_count": 22,
   "metadata": {},
   "outputs": [
    {
     "name": "stdout",
     "output_type": "stream",
     "text": [
      "Two of a Space Kind: Apollo 12 and Mars 2020\n",
      "Apollo 12 and the upcoming Mars 2020 mission may be separated by half a century, but they share several goals unique in the annals of space exploration.\n"
     ]
    }
   ],
   "source": [
    "browser = init_browser()\n",
    "\n",
    "#     URL for the newspage of NASA's Mars Exploration Project\n",
    "url = \"https://mars.nasa.gov/news/?page=0&per_page=40&order=publish_date+desc%2Ccreated_at+desc&search=&category=19%2C165%2C184%2C204&blank_scope=Latest\"\n",
    "browser.visit(url)\n",
    "\n",
    "#     time.sleep(1)\n",
    "\n",
    "# Scrape page into Soup\n",
    "html = browser.html\n",
    "soup = bs(html, \"html.parser\")\n",
    "\n",
    "# Get the latest news title\n",
    "news_title = soup.find_all('div', {\"class\": \"content_title\"})\n",
    "news_title[0].text\n",
    "\n",
    "# Get the latest paragraph text\n",
    "news_para = soup.find_all('div', {\"class\": \"article_teaser_body\"})\n",
    "news_para[0].text\n",
    "\n",
    "print(news_title[0].text)\n",
    "print(news_para[0].text)"
   ]
  },
  {
   "cell_type": "code",
   "execution_count": 28,
   "metadata": {},
   "outputs": [
    {
     "name": "stdout",
     "output_type": "stream",
     "text": [
      "https://www.jpl.nasa.gov/spaceimages/images/largesize/PIA19674_hires.jpg\n"
     ]
    }
   ],
   "source": [
    "browser = init_browser()\n",
    "base_url = \"https://www.jpl.nasa.gov/spaceimages/?search=&category=Mars\"\n",
    "browser.visit(base_url)\n",
    "# img_url = \"https://www.jpl.nasa.gov\"\n",
    "\n",
    "full_image = browser.find_by_id(\"full_image\")\n",
    "\n",
    "full_image.click()\n",
    "time.sleep(5)\n",
    "more_info_button = browser.find_link_by_partial_text(\"more info\")\n",
    "\n",
    "more_info_button.click()\n",
    "\n",
    "# # Scrape page into Soup\n",
    "html = browser.html\n",
    "soup = bs(html, \"html.parser\")\n",
    "\n",
    "rel_image = soup.select_one(\"figure.lede a img\").get(\"src\")\n",
    "# print(rel_image)\n",
    "#page > section.content_page.module > div > article > figure > a > img\n",
    "\n",
    "# # Use splinter to navigate the site and find the image url for the current Featured Mars Image\n",
    "featured_image_url = \"https://www.jpl.nasa.gov\" + rel_image\n",
    "print(featured_image_url)"
   ]
  },
  {
   "cell_type": "code",
   "execution_count": null,
   "metadata": {},
   "outputs": [],
   "source": []
  },
  {
   "cell_type": "code",
   "execution_count": null,
   "metadata": {},
   "outputs": [],
   "source": []
  }
 ],
 "metadata": {
  "kernelspec": {
   "display_name": "Python [conda env:PythonData] *",
   "language": "python",
   "name": "conda-env-PythonData-py"
  },
  "language_info": {
   "codemirror_mode": {
    "name": "ipython",
    "version": 3
   },
   "file_extension": ".py",
   "mimetype": "text/x-python",
   "name": "python",
   "nbconvert_exporter": "python",
   "pygments_lexer": "ipython3",
   "version": "3.6.9"
  }
 },
 "nbformat": 4,
 "nbformat_minor": 2
}
